{
 "cells": [
  {
   "cell_type": "markdown",
   "metadata": {},
   "source": [
    "# Εισαγωγή στην  Python:\n",
    "\n",
    "![Image of operators](https://www.python.org/static/img/python-logo@2x.png)\n"
   ]
  },
  {
   "cell_type": "markdown",
   "metadata": {},
   "source": [
    "### Τα Comments ξεκινούν με το hash character (#) και φτάνουν μέχρι το τέλος της γραμμής. "
   ]
  },
  {
   "cell_type": "code",
   "execution_count": 63,
   "metadata": {},
   "outputs": [],
   "source": [
    "#αυτό είναι ένα comment"
   ]
  },
  {
   "cell_type": "code",
   "execution_count": 64,
   "metadata": {},
   "outputs": [],
   "source": [
    "a = 1  #αυτό είναι comment\n",
    "\n",
    "text = \"αυτό δεν είναι comment γιατί βρίσκεται μέσα σε εισαγωγικά\""
   ]
  },
  {
   "cell_type": "markdown",
   "metadata": {},
   "source": [
    "## Μεταβλητές - Variables \n",
    "\n",
    "Αποθηκεύουν τιμές π.χ. (a = 1)\n",
    "Για να φτιάξουμε μια νέα μεταβλητή, απλώς της δίνουμε μια τιμή και την χρησιμοποιούμε. \n",
    "\n",
    "Οι κανόνες για τα ονόματα των μεταβλητών είναι:\n",
    "\n",
    "• Στην Python τα κεφαλαία και τα πεζά έχουν σημασία!\n",
    "\n",
    "• Το όνομα μπορεί να περιέχει γράμματα, νούμερα και κάτω παύλα. \n",
    "\n",
    "• Το όνομα μιας μεταβλητής μπορεί να έχει αριθμούς, αλλά απαγορεύεται να ξεκινά με αριθμό. "
   ]
  },
  {
   "cell_type": "markdown",
   "metadata": {},
   "source": [
    "## Λειτουργίες - Functions \n",
    "\n",
    "Οι λειτουργίες είναι πολύ χρήσιμες καθώς επιτρέπουν μεγάλη ευελιξία στον κώδικα μας.\n",
    "\n",
    "Οι λειτουργίες χρησιμοποιούνται βάζοντας το όνομα του function και τοποθετώντας μέσα σε παρενθέσεις το input.\n",
    "\n",
    "Μερικά functions έχουν μια βασική λειτουργικότητα χωρίς να χρειάζεται να βάλουμε κάποιο input μέσα στις παρενθέσεις.\n",
    "Για παράδειγμα το help( ) function δεν χρειάζεται input. "
   ]
  },
  {
   "cell_type": "code",
   "execution_count": null,
   "metadata": {},
   "outputs": [],
   "source": []
  },
  {
   "cell_type": "markdown",
   "metadata": {},
   "source": [
    "Τύποι και Δομές δεδομένων στην Python\n",
    "\n",
    "Η λειτουργία type( ) είναι πολύ χρήσιμη για να μάθουμε τι είδους δεδομένα έχουμε. \n",
    "\n",
    "Οι τύποι δεδομένων για αριθμούς είναι : int και float\n",
    "\n",
    "α. Integer. Ακέραιοι αριθμοί π.χ.: x = 3\n",
    "\n",
    "β. Float. Δεκαδικοί αριθμοί π.χ. 34.7 "
   ]
  },
  {
   "cell_type": "markdown",
   "metadata": {},
   "source": [
    "##  Τύπος δεδομένων αλήθειας - Boolean\n",
    "\n",
    "Στην πληροφορική, οι τύποι δεδομένων Αληθείας ή Boolean, μπορούν να πάρουν δύο τιμές (συνήθως αναφέρονται ως Αληθής/True ή Ψευδής/False), με κύριο σκοπό την αναπαράσταση των τιμών της Άλγεβρα Μπουλ. Πήραν το όνομα από τον Τζορτζ Μπουλ, ο οποίος καθόρισε το σύστημα λογικής αλγεβρικής αρίθμησης στα μέσα του 19ου αιώνα.\n",
    "\n",
    "Στις γλώσσες προγραμματισμού οι τελεστές σύγκρισης όπως ο '>' και ο '≠' επιστρέφουν συνήθως έναν τύπο δεδομένων Boolean.\n",
    "\n",
    "παράδειγμα:\n"
   ]
  },
  {
   "cell_type": "code",
   "execution_count": 65,
   "metadata": {},
   "outputs": [],
   "source": [
    "x = 3 > 6"
   ]
  },
  {
   "cell_type": "markdown",
   "metadata": {},
   "source": [
    "## Τύπος δεδομένων συμβολοσειρά - String\n",
    "Συμβολοσειρά, (string), στην επιστήμη υπολογιστών καλούμε μια σειρά διαδοχικών συμβόλων τα οποία σύμβολα είναι στοιχεία ενός πεπερασμένου σύνολου ή αλλιώς αλφάβητου. Ανάλογα με τα στοιχεία που διαθέτει το αλφάβητο, διαφοροποιείται και το περιεχόμενο της συμβολοσειράς.\n",
    "\n",
    "Οι συμβολοσειρές καθορίζονται από ('...'), ή διπλά εισαγωγικά (\"...\") με το ίδιο αποτέλεσμα. Τα τριπλά εισαγωγικά \"\"\"...\"\"\" ή '''...''' χρησιμοποιούνται όταν το κείμενο ξεπερνά την μία σειρά (πχ. μια παράγραφος). \n",
    "\n",
    "παράδειγμα: "
   ]
  },
  {
   "cell_type": "code",
   "execution_count": 66,
   "metadata": {},
   "outputs": [],
   "source": [
    "x = \"Hello World\""
   ]
  },
  {
   "cell_type": "markdown",
   "metadata": {},
   "source": [
    "## Λίστα - List\n",
    "Η λίστα είναι μία δομή δεδομένων και σημάινει γραμμικές ακολουθίες\n",
    "οποιονδήποτε αντικειμένων. \n",
    "\n",
    "Μπορούμε να ορίσουμε μια λίστα απαριθμώντας τα στοιχεία της \n",
    "μέσα σε τετραγωνικές παρανθέσεις και χωρίζοντας το ένα στοιχείο από το άλλο με κόμμα:\n"
   ]
  },
  {
   "cell_type": "code",
   "execution_count": 67,
   "metadata": {},
   "outputs": [],
   "source": [
    "numbers = [5, 61, 18, 47, 8]\n",
    "students = [' Nikos', 'Alexandra', 'Kostas', 'Aggeliki']\n",
    "grades = ['Glossa', 18, 'Mathimatika', 17, 'Arxaia', 19]"
   ]
  },
  {
   "cell_type": "markdown",
   "metadata": {},
   "source": [
    "Αναφερόμαστε σε κάποιο συγκεκριμένο στοιχείο μιας λίστας γράφοντας το όνομα \n",
    "της λίστας ακολουθούμενο από το δείκτη του στοιχείου που μας ενδιαφέρει μέσα σε τετραγωνικές παρενθέσεις:"
   ]
  },
  {
   "cell_type": "code",
   "execution_count": 68,
   "metadata": {},
   "outputs": [
    {
     "data": {
      "text/plain": [
       "('Me lene Kosta kai sta Arxaia pira', 19)"
      ]
     },
     "execution_count": 68,
     "metadata": {},
     "output_type": "execute_result"
    }
   ],
   "source": [
    "'Me lene Kosta kai sta Arxaia pira', grades[5]"
   ]
  },
  {
   "cell_type": "code",
   "execution_count": 69,
   "metadata": {},
   "outputs": [
    {
     "data": {
      "text/plain": [
       "' Nikos'"
      ]
     },
     "execution_count": 69,
     "metadata": {},
     "output_type": "execute_result"
    }
   ],
   "source": [
    "students[0]"
   ]
  },
  {
   "cell_type": "markdown",
   "metadata": {},
   "source": [
    "Το πρώτο αντικείμενο είναι πάντα στη θέση 0 ! "
   ]
  },
  {
   "cell_type": "markdown",
   "metadata": {},
   "source": [
    "## Λεξικά - Dictionaries\n",
    "Λεξικό είναι ένας τύπος αντικειμένων σαν τη λίστα, μόνο που αντί για απλά στοιχεία, έχει ένα σύνολο από μοναδικά κλειδιά,\n",
    "και σε καθένα τους αντιστοιχίζεται μια (όχι απαραίτητα μοναδική) τιμή."
   ]
  },
  {
   "cell_type": "markdown",
   "metadata": {},
   "source": [
    "Ένα λεξικό αποθηκεύει ζεύγη κλειδιού-τιμής και ξεκινάει και τελειώνει με άγκιστρα. \n",
    "Κάθε κλειδί χωρίζεται από την τιμή με άνω κάτω τελεία. Συμβολοσειρές και αριθμοί μπορούν να είναι κλειδιά. \n",
    "\n",
    "Οι πιο βασικές λειτουργίες ενός λεξικού είναι η αποθήκευση μιας τιμής με κάποιο κλειδί και η ανάκτηση μιας τιμής δίνοντας το κλειδί. \n",
    "\n",
    "Ένα ζευγάρι άγκιστρα δημιουργούν ένα κενό λεξικό x : { }.\n",
    "\n",
    "παράδειγμα: D = {\"a\": [5, 6], \"b\": 6.8, \"c\":2},\n",
    "\n",
    "ανάκτηση στοιχείου: x = D[\"a\"] -> x = [5, 6]"
   ]
  },
  {
   "cell_type": "markdown",
   "metadata": {},
   "source": [
    "## Δουλεύοντας με τους τύπους δεδομένων \n"
   ]
  },
  {
   "cell_type": "markdown",
   "metadata": {},
   "source": [
    "![Image of operators](https://d1e4pidl3fu268.cloudfront.net/f20083ef-a2fb-4673-ac88-13d58ba68133/Arithmeticoperators.png)"
   ]
  },
  {
   "cell_type": "markdown",
   "metadata": {},
   "source": [
    "Και οι συμβολοσειρές μπορούν να προστεθούν μεταξύ τους ή να πολλαπλασιαστούν."
   ]
  },
  {
   "cell_type": "code",
   "execution_count": 70,
   "metadata": {},
   "outputs": [
    {
     "data": {
      "text/plain": [
       "'Kalimera sas'"
      ]
     },
     "execution_count": 70,
     "metadata": {},
     "output_type": "execute_result"
    }
   ],
   "source": [
    "a = 'Kalimera'\n",
    "b = 'sas'\n",
    "\n",
    "a + ' ' + b"
   ]
  },
  {
   "cell_type": "markdown",
   "metadata": {},
   "source": [
    "Οι συμβολοσειρές μπορούν επίσης να χωριστούν η να χρησιμοποιηθούν ως δείκτες. "
   ]
  },
  {
   "cell_type": "code",
   "execution_count": 71,
   "metadata": {},
   "outputs": [
    {
     "data": {
      "text/plain": [
       "'n'"
      ]
     },
     "execution_count": 71,
     "metadata": {},
     "output_type": "execute_result"
    }
   ],
   "source": [
    "#Index:\n",
    "word = 'Python'\n",
    "word[0] # χαρακτήρας στη θέση 0\n",
    "'P'\n",
    "word[5] # χαρακτήρας στη θέση 5\n",
    "'n'"
   ]
  },
  {
   "cell_type": "code",
   "execution_count": 72,
   "metadata": {},
   "outputs": [
    {
     "data": {
      "text/plain": [
       "'tho'"
      ]
     },
     "execution_count": 72,
     "metadata": {},
     "output_type": "execute_result"
    }
   ],
   "source": [
    "#Slicing:\n",
    "word[0:2] # χαρακτήρας από τη θέση 0 (included) στη 2 (excluded)\n",
    "'Py'\n",
    "word[2:5] # χαρακτήρας από τη θέση 2 (included) στην 5 (excluded)\n",
    "'tho'"
   ]
  },
  {
   "cell_type": "markdown",
   "metadata": {},
   "source": [
    "## Σημαντικές λειτουργίες \n",
    "\n",
    "Η λειτουργία print( ) τυπώνει το περιεχόμενο όλων των τύπων δεδομένων.\n",
    "\n",
    "Η λειτουργία len( ) επιστρέφει το μήκος μιας συμβολοσειράς. "
   ]
  },
  {
   "cell_type": "code",
   "execution_count": 73,
   "metadata": {},
   "outputs": [
    {
     "data": {
      "text/plain": [
       "20"
      ]
     },
     "execution_count": 73,
     "metadata": {},
     "output_type": "execute_result"
    }
   ],
   "source": [
    "new = 'skoulikomirmigotripa'\n",
    "len(new)"
   ]
  },
  {
   "cell_type": "markdown",
   "metadata": {},
   "source": [
    "## Δουλεύοντας με bools\n",
    "Η τιμή του True είναι 1 και του False το 0"
   ]
  },
  {
   "cell_type": "code",
   "execution_count": 74,
   "metadata": {},
   "outputs": [
    {
     "name": "stdout",
     "output_type": "stream",
     "text": [
      "3\n",
      "1\n"
     ]
    }
   ],
   "source": [
    "x = False\n",
    "y = True\n",
    "print(3*y) \n",
    "print(3*x + 1) "
   ]
  },
  {
   "cell_type": "markdown",
   "metadata": {},
   "source": [
    "## Δουλεύοντας με lists\n",
    "\n",
    "Όπως και οι συμβολοσειρές (αλλά και άλλες ενσωματωμένου τύπου ακολουθίες), οι λίστες μπορούν να γίνουν indexed και sliced. Ένα παράδειγμα:"
   ]
  },
  {
   "cell_type": "code",
   "execution_count": 75,
   "metadata": {},
   "outputs": [
    {
     "data": {
      "text/plain": [
       "[9, -1]"
      ]
     },
     "execution_count": 75,
     "metadata": {},
     "output_type": "execute_result"
    }
   ],
   "source": [
    "L = [78, 2, 9, -1]\n",
    "L[0] # το indexing επιστρέφει το πρώτο στοιχείο\n",
    "L[2] # το 9\n",
    "L[2: ] # το slicing επιστρέφει μια νέα λίστα: 9, -1\n"
   ]
  },
  {
   "cell_type": "code",
   "execution_count": 76,
   "metadata": {},
   "outputs": [
    {
     "data": {
      "text/plain": [
       "-1"
      ]
     },
     "execution_count": 76,
     "metadata": {},
     "output_type": "execute_result"
    }
   ],
   "source": [
    "L [-1] # επιστρέφει το πρώτο στοιχείο από το τέλος της λίστας"
   ]
  },
  {
   "cell_type": "markdown",
   "metadata": {},
   "source": [
    "Οι λίστες επιτρέπουν και ένωση (concatenation):"
   ]
  },
  {
   "cell_type": "code",
   "execution_count": 77,
   "metadata": {},
   "outputs": [
    {
     "data": {
      "text/plain": [
       "[78, 2, 9, -1, 36, 49, 64, 81, 100]"
      ]
     },
     "execution_count": 77,
     "metadata": {},
     "output_type": "execute_result"
    }
   ],
   "source": [
    "L + [36, 49, 64, 81, 100]"
   ]
  },
  {
   "cell_type": "markdown",
   "metadata": {},
   "source": [
    "Αλλαγή μιας τιμής σε ένα list:\n"
   ]
  },
  {
   "cell_type": "code",
   "execution_count": 78,
   "metadata": {},
   "outputs": [
    {
     "data": {
      "text/plain": [
       "[78, 2, 9, 17]"
      ]
     },
     "execution_count": 78,
     "metadata": {},
     "output_type": "execute_result"
    }
   ],
   "source": [
    "L [3] = 17 \n",
    "L "
   ]
  },
  {
   "cell_type": "markdown",
   "metadata": {},
   "source": [
    "### Πρόσθεση νέων στοιχείων\n",
    "Μπορούμε επίσης να προσθέσουμε νέα στοιχεία στο τέλος της λίστας, χρησιμοποιώντας τη μέθοδο append(  ) – για παράδειγμα:\n",
    "\n"
   ]
  },
  {
   "cell_type": "code",
   "execution_count": 79,
   "metadata": {},
   "outputs": [
    {
     "data": {
      "text/plain": [
       "[78, 2, 9, 17, 26, 4]"
      ]
     },
     "execution_count": 79,
     "metadata": {},
     "output_type": "execute_result"
    }
   ],
   "source": [
    "L.append(26)  # πρόσθεσε στο τέλος στην λίστα το 26\n",
    "L.append(2 ** 2)  # το 2 υψωμένο στη δευτέρα\n",
    "L"
   ]
  },
  {
   "cell_type": "markdown",
   "metadata": {},
   "source": [
    "### Δουλεύοντας με dict\n",
    "\n",
    "Πρόσθεση στοιχείων"
   ]
  },
  {
   "cell_type": "code",
   "execution_count": 80,
   "metadata": {},
   "outputs": [],
   "source": [
    "D = {\"a\": [1, 2], \"b\": 7.8, \"c\":9}\n",
    "D[\"d\"] = 12 "
   ]
  },
  {
   "cell_type": "code",
   "execution_count": 81,
   "metadata": {},
   "outputs": [
    {
     "data": {
      "text/plain": [
       "{'a': [1, 2], 'b': 7.8, 'c': 9, 'd': 12}"
      ]
     },
     "execution_count": 81,
     "metadata": {},
     "output_type": "execute_result"
    }
   ],
   "source": [
    "D"
   ]
  },
  {
   "cell_type": "markdown",
   "metadata": {},
   "source": [
    "Διαγραφή κλειδιού"
   ]
  },
  {
   "cell_type": "code",
   "execution_count": null,
   "metadata": {},
   "outputs": [],
   "source": [
    "del D['b']"
   ]
  },
  {
   "cell_type": "code",
   "execution_count": 83,
   "metadata": {},
   "outputs": [
    {
     "data": {
      "text/plain": [
       "{'a': [1, 2], 'c': 9, 'd': 12}"
      ]
     },
     "execution_count": 83,
     "metadata": {},
     "output_type": "execute_result"
    }
   ],
   "source": [
    "D"
   ]
  },
  {
   "cell_type": "code",
   "execution_count": 84,
   "metadata": {},
   "outputs": [
    {
     "data": {
      "text/plain": [
       "True"
      ]
     },
     "execution_count": 84,
     "metadata": {},
     "output_type": "execute_result"
    }
   ],
   "source": [
    "\"a\" in D # Είναι το a στο D?"
   ]
  },
  {
   "cell_type": "markdown",
   "metadata": {},
   "source": [
    "![Image of operators](https://iconicdevelopers.com/wp-content/uploads/2019/01/Overview-of-Comparison-Operators-in-Python-1024x603.png)\n"
   ]
  },
  {
   "cell_type": "markdown",
   "metadata": {},
   "source": [
    "![Image of operators](https://qph.fs.quoracdn.net/main-qimg-25cc9cec0ee894dd79bb586e9e7516fc)"
   ]
  },
  {
   "cell_type": "markdown",
   "metadata": {},
   "source": [
    "![Image of operators](https://miro.medium.com/max/544/1*xIxbMeCIPufBSCAEIKAG9A.png)"
   ]
  },
  {
   "cell_type": "markdown",
   "metadata": {},
   "source": [
    "## Δήλωση if\n",
    "Διαλέγει ακριβώς αυτό που ταιριάζει ψάχνοντας ένα ένα όλα τα στοιχεία μέχρι να βρει εκείνο που θα είναι Τrue.\n",
    "\n",
    "\n",
    "### Παραλλαγές:\n",
    "\n",
    "• if \n",
    "\n",
    "• if και else\n",
    "\n",
    "• if - elif - elif – else"
   ]
  },
  {
   "cell_type": "code",
   "execution_count": 85,
   "metadata": {},
   "outputs": [
    {
     "name": "stdout",
     "output_type": "stream",
     "text": [
      "Η λέξη είναι πολύ μεγάλη ...\n"
     ]
    }
   ],
   "source": [
    "# Ένα απλό παράδειγμα:\n",
    "word = 'skoulikomirmigotripa'\n",
    "if len(word) > 15:\n",
    "    print(\"Η λέξη είναι πολύ μεγάλη ...\")"
   ]
  },
  {
   "cell_type": "code",
   "execution_count": 86,
   "metadata": {},
   "outputs": [
    {
     "name": "stdout",
     "output_type": "stream",
     "text": [
      " Banana \n"
     ]
    }
   ],
   "source": [
    "# Και άλλο ένα απλό παράδειγμα:\n",
    "x = 'Banana'\n",
    "if x == 'Apple':\n",
    "    print(' Apple ')\n",
    "elif x == 'Banana':\n",
    "    print(' Banana ')\n",
    "else:\n",
    "    print(' Orange ')"
   ]
  },
  {
   "cell_type": "markdown",
   "metadata": {},
   "source": [
    "## Λούπες με for\n",
    "\n",
    "Το for περνάει από όλα τα στοιχεία σε μια ακολουθία (π.χ. lists ή strings) με την σειρά. "
   ]
  },
  {
   "cell_type": "code",
   "execution_count": 87,
   "metadata": {},
   "outputs": [
    {
     "name": "stdout",
     "output_type": "stream",
     "text": [
      "Hello P"
     ]
    }
   ],
   "source": [
    "#ένα απλό παράδειγμα με break:\n",
    "for val in \"Hello Python\":\n",
    "    if val == \"y\":\n",
    "        break\n",
    "    print(val, end=\"\")"
   ]
  },
  {
   "cell_type": "markdown",
   "metadata": {},
   "source": [
    "To 'end' μπορούμε να το χρησιμοποιήσουμε για να μην τυπωθεί νέα γραμμή μετά το αποτέλεσμα, ή για \n",
    "να τελειώσουμε τη φράση με διαφορετική συμβολοσειρά."
   ]
  },
  {
   "cell_type": "markdown",
   "metadata": {},
   "source": [
    "## Λούπες με while\n",
    "Η δήλωση while χρησιμοποιείται για να επαναλαμβάνεται η λούπα για όσο είναι Τrue."
   ]
  },
  {
   "cell_type": "code",
   "execution_count": 88,
   "metadata": {},
   "outputs": [
    {
     "name": "stdout",
     "output_type": "stream",
     "text": [
      "value= 1 value squared:  1\n",
      "value= 2 value squared:  4\n",
      "value= 3 value squared:  9\n",
      "value= 4 value squared:  16\n",
      "value= 5 value squared:  25\n"
     ]
    }
   ],
   "source": [
    "#ένα απλό παράδειγμα:\n",
    "i = 1\n",
    "while i <=5:\n",
    "    print(\"value=\", i, \"value squared: \", i**2)\n",
    "    i += 1"
   ]
  },
  {
   "cell_type": "markdown",
   "metadata": {},
   "source": [
    "Οι λούπες δεν δουλεύουν μόνο με κλασικούς comparison operators (>, !=, ==, ...)."
   ]
  },
  {
   "cell_type": "code",
   "execution_count": 89,
   "metadata": {},
   "outputs": [
    {
     "name": "stdout",
     "output_type": "stream",
     "text": [
      "You have entered nothing – this makes me sad. \n"
     ]
    }
   ],
   "source": [
    "something = \"\"\n",
    "if something:\n",
    "    print(\"Thanks for entering something\")\n",
    "else:\n",
    "    print(\"You have entered nothing – this makes me sad. \")"
   ]
  }
 ],
 "metadata": {
  "kernelspec": {
   "display_name": "Python 3",
   "language": "python",
   "name": "python3"
  },
  "language_info": {
   "codemirror_mode": {
    "name": "ipython",
    "version": 3
   },
   "file_extension": ".py",
   "mimetype": "text/x-python",
   "name": "python",
   "nbconvert_exporter": "python",
   "pygments_lexer": "ipython3",
   "version": "3.7.2"
  }
 },
 "nbformat": 4,
 "nbformat_minor": 2
}
